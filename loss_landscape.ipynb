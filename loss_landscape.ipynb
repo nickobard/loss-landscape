{
 "cells": [
  {
   "cell_type": "code",
   "id": "initial_id",
   "metadata": {
    "collapsed": true,
    "ExecuteTime": {
     "end_time": "2024-09-18T14:23:44.884043Z",
     "start_time": "2024-09-18T14:23:42.413593Z"
    }
   },
   "source": [
    "import os\n",
    "import re\n",
    "from types import SimpleNamespace\n",
    "from tqdm import tqdm\n",
    "import matplotlib.pyplot as plt\n",
    "from matplotlib import cm\n",
    "import ipywidgets as widgets\n",
    "\n",
    "os.environ.setdefault(\"KERAS_BACKEND\", \"torch\")  # Use PyTorch backend unless specified otherwise\n",
    "\n",
    "import keras\n",
    "import numpy as np\n",
    "import torch\n",
    "\n",
    "keras.utils.set_random_seed(42)\n",
    "\n",
    "from mnist import MNIST"
   ],
   "outputs": [],
   "execution_count": 1
  },
  {
   "metadata": {},
   "cell_type": "markdown",
   "source": [
    "# Loss Landscape Visualization\n",
    "\n",
    "In this notebook we will train simple neural network on MNIST dataset and visualize its loss landscape."
   ],
   "id": "dfa9c6269ed85eb7"
  },
  {
   "metadata": {},
   "cell_type": "markdown",
   "source": [
    "## Training Neural Network\n",
    "\n",
    "In this section we:\n",
    "- load dataset\n",
    "- define neural network architecture\n",
    "- save initial parameters\n",
    "- train the model\n",
    "- save trained parameters"
   ],
   "id": "87b24ced9127c9e1"
  },
  {
   "metadata": {
    "ExecuteTime": {
     "end_time": "2024-09-18T14:48:21.685709Z",
     "start_time": "2024-09-18T14:48:21.507654Z"
    }
   },
   "cell_type": "code",
   "source": [
    "mnist = MNIST()\n",
    "args = SimpleNamespace(batch_size=50, epochs=10, hidden_layer=128, learning_rate=1e-2,\n",
    "                       learning_rate_final=1e-3)"
   ],
   "id": "2266363e206bc12d",
   "outputs": [],
   "execution_count": 12
  },
  {
   "metadata": {
    "ExecuteTime": {
     "end_time": "2024-09-18T14:48:22.270465Z",
     "start_time": "2024-09-18T14:48:22.247759Z"
    }
   },
   "cell_type": "code",
   "source": [
    "model = keras.Sequential([\n",
    "    keras.layers.Input(shape=[MNIST.H, MNIST.W, MNIST.C]),\n",
    "    keras.layers.Rescaling(1 / 255),\n",
    "    keras.layers.Flatten(),\n",
    "    keras.layers.Dense(args.hidden_layer, activation=\"relu\"),\n",
    "    keras.layers.Dense(MNIST.LABELS, activation=\"softmax\"),\n",
    "])\n",
    "\n",
    "max_steps = (mnist.train.size // args.batch_size) * args.epochs\n",
    "\n",
    "learning_rate = keras.optimizers.schedules.ExponentialDecay(\n",
    "    initial_learning_rate=args.learning_rate,\n",
    "    decay_rate=args.learning_rate_final / args.learning_rate,\n",
    "    decay_steps=max_steps\n",
    ")\n",
    "\n",
    "optimizer = keras.optimizers.Adam(learning_rate=learning_rate)\n",
    "\n",
    "model.compile(\n",
    "    optimizer=optimizer,\n",
    "    loss=keras.losses.SparseCategoricalCrossentropy(),\n",
    "    metrics=[keras.metrics.SparseCategoricalAccuracy(\"accuracy\")],\n",
    ")\n",
    "\n",
    "model.summary()"
   ],
   "id": "2b0707178e1c916c",
   "outputs": [
    {
     "data": {
      "text/plain": [
       "\u001B[1mModel: \"sequential_1\"\u001B[0m\n"
      ],
      "text/html": [
       "<pre style=\"white-space:pre;overflow-x:auto;line-height:normal;font-family:Menlo,'DejaVu Sans Mono',consolas,'Courier New',monospace\"><span style=\"font-weight: bold\">Model: \"sequential_1\"</span>\n",
       "</pre>\n"
      ]
     },
     "metadata": {},
     "output_type": "display_data"
    },
    {
     "data": {
      "text/plain": [
       "┏━━━━━━━━━━━━━━━━━━━━━━━━━━━━━━━━━┳━━━━━━━━━━━━━━━━━━━━━━━━┳━━━━━━━━━━━━━━━┓\n",
       "┃\u001B[1m \u001B[0m\u001B[1mLayer (type)                   \u001B[0m\u001B[1m \u001B[0m┃\u001B[1m \u001B[0m\u001B[1mOutput Shape          \u001B[0m\u001B[1m \u001B[0m┃\u001B[1m \u001B[0m\u001B[1m      Param #\u001B[0m\u001B[1m \u001B[0m┃\n",
       "┡━━━━━━━━━━━━━━━━━━━━━━━━━━━━━━━━━╇━━━━━━━━━━━━━━━━━━━━━━━━╇━━━━━━━━━━━━━━━┩\n",
       "│ rescaling_1 (\u001B[38;5;33mRescaling\u001B[0m)         │ (\u001B[38;5;45mNone\u001B[0m, \u001B[38;5;34m28\u001B[0m, \u001B[38;5;34m28\u001B[0m, \u001B[38;5;34m1\u001B[0m)      │             \u001B[38;5;34m0\u001B[0m │\n",
       "├─────────────────────────────────┼────────────────────────┼───────────────┤\n",
       "│ flatten_1 (\u001B[38;5;33mFlatten\u001B[0m)             │ (\u001B[38;5;45mNone\u001B[0m, \u001B[38;5;34m784\u001B[0m)            │             \u001B[38;5;34m0\u001B[0m │\n",
       "├─────────────────────────────────┼────────────────────────┼───────────────┤\n",
       "│ dense_2 (\u001B[38;5;33mDense\u001B[0m)                 │ (\u001B[38;5;45mNone\u001B[0m, \u001B[38;5;34m128\u001B[0m)            │       \u001B[38;5;34m100,480\u001B[0m │\n",
       "├─────────────────────────────────┼────────────────────────┼───────────────┤\n",
       "│ dense_3 (\u001B[38;5;33mDense\u001B[0m)                 │ (\u001B[38;5;45mNone\u001B[0m, \u001B[38;5;34m10\u001B[0m)             │         \u001B[38;5;34m1,290\u001B[0m │\n",
       "└─────────────────────────────────┴────────────────────────┴───────────────┘\n"
      ],
      "text/html": [
       "<pre style=\"white-space:pre;overflow-x:auto;line-height:normal;font-family:Menlo,'DejaVu Sans Mono',consolas,'Courier New',monospace\">┏━━━━━━━━━━━━━━━━━━━━━━━━━━━━━━━━━┳━━━━━━━━━━━━━━━━━━━━━━━━┳━━━━━━━━━━━━━━━┓\n",
       "┃<span style=\"font-weight: bold\"> Layer (type)                    </span>┃<span style=\"font-weight: bold\"> Output Shape           </span>┃<span style=\"font-weight: bold\">       Param # </span>┃\n",
       "┡━━━━━━━━━━━━━━━━━━━━━━━━━━━━━━━━━╇━━━━━━━━━━━━━━━━━━━━━━━━╇━━━━━━━━━━━━━━━┩\n",
       "│ rescaling_1 (<span style=\"color: #0087ff; text-decoration-color: #0087ff\">Rescaling</span>)         │ (<span style=\"color: #00d7ff; text-decoration-color: #00d7ff\">None</span>, <span style=\"color: #00af00; text-decoration-color: #00af00\">28</span>, <span style=\"color: #00af00; text-decoration-color: #00af00\">28</span>, <span style=\"color: #00af00; text-decoration-color: #00af00\">1</span>)      │             <span style=\"color: #00af00; text-decoration-color: #00af00\">0</span> │\n",
       "├─────────────────────────────────┼────────────────────────┼───────────────┤\n",
       "│ flatten_1 (<span style=\"color: #0087ff; text-decoration-color: #0087ff\">Flatten</span>)             │ (<span style=\"color: #00d7ff; text-decoration-color: #00d7ff\">None</span>, <span style=\"color: #00af00; text-decoration-color: #00af00\">784</span>)            │             <span style=\"color: #00af00; text-decoration-color: #00af00\">0</span> │\n",
       "├─────────────────────────────────┼────────────────────────┼───────────────┤\n",
       "│ dense_2 (<span style=\"color: #0087ff; text-decoration-color: #0087ff\">Dense</span>)                 │ (<span style=\"color: #00d7ff; text-decoration-color: #00d7ff\">None</span>, <span style=\"color: #00af00; text-decoration-color: #00af00\">128</span>)            │       <span style=\"color: #00af00; text-decoration-color: #00af00\">100,480</span> │\n",
       "├─────────────────────────────────┼────────────────────────┼───────────────┤\n",
       "│ dense_3 (<span style=\"color: #0087ff; text-decoration-color: #0087ff\">Dense</span>)                 │ (<span style=\"color: #00d7ff; text-decoration-color: #00d7ff\">None</span>, <span style=\"color: #00af00; text-decoration-color: #00af00\">10</span>)             │         <span style=\"color: #00af00; text-decoration-color: #00af00\">1,290</span> │\n",
       "└─────────────────────────────────┴────────────────────────┴───────────────┘\n",
       "</pre>\n"
      ]
     },
     "metadata": {},
     "output_type": "display_data"
    },
    {
     "data": {
      "text/plain": [
       "\u001B[1m Total params: \u001B[0m\u001B[38;5;34m101,770\u001B[0m (397.54 KB)\n"
      ],
      "text/html": [
       "<pre style=\"white-space:pre;overflow-x:auto;line-height:normal;font-family:Menlo,'DejaVu Sans Mono',consolas,'Courier New',monospace\"><span style=\"font-weight: bold\"> Total params: </span><span style=\"color: #00af00; text-decoration-color: #00af00\">101,770</span> (397.54 KB)\n",
       "</pre>\n"
      ]
     },
     "metadata": {},
     "output_type": "display_data"
    },
    {
     "data": {
      "text/plain": [
       "\u001B[1m Trainable params: \u001B[0m\u001B[38;5;34m101,770\u001B[0m (397.54 KB)\n"
      ],
      "text/html": [
       "<pre style=\"white-space:pre;overflow-x:auto;line-height:normal;font-family:Menlo,'DejaVu Sans Mono',consolas,'Courier New',monospace\"><span style=\"font-weight: bold\"> Trainable params: </span><span style=\"color: #00af00; text-decoration-color: #00af00\">101,770</span> (397.54 KB)\n",
       "</pre>\n"
      ]
     },
     "metadata": {},
     "output_type": "display_data"
    },
    {
     "data": {
      "text/plain": [
       "\u001B[1m Non-trainable params: \u001B[0m\u001B[38;5;34m0\u001B[0m (0.00 B)\n"
      ],
      "text/html": [
       "<pre style=\"white-space:pre;overflow-x:auto;line-height:normal;font-family:Menlo,'DejaVu Sans Mono',consolas,'Courier New',monospace\"><span style=\"font-weight: bold\"> Non-trainable params: </span><span style=\"color: #00af00; text-decoration-color: #00af00\">0</span> (0.00 B)\n",
       "</pre>\n"
      ]
     },
     "metadata": {},
     "output_type": "display_data"
    }
   ],
   "execution_count": 13
  },
  {
   "metadata": {
    "ExecuteTime": {
     "end_time": "2024-09-18T14:48:23.305528Z",
     "start_time": "2024-09-18T14:48:23.294833Z"
    }
   },
   "cell_type": "code",
   "source": [
    "# Save initial parameters/weights of the model.\n",
    "theta_0 = [param.data.clone() for param in model.parameters()]\n",
    "theta_0"
   ],
   "id": "b4fabd252e2674cc",
   "outputs": [
    {
     "data": {
      "text/plain": [
       "[tensor([[ 0.0188, -0.0531, -0.0275,  ..., -0.0293,  0.0531, -0.0326],\n",
       "         [ 0.0408, -0.0645,  0.0625,  ...,  0.0544, -0.0456,  0.0718],\n",
       "         [-0.0452,  0.0373,  0.0305,  ...,  0.0380,  0.0310,  0.0340],\n",
       "         ...,\n",
       "         [-0.0638, -0.0676,  0.0280,  ...,  0.0232, -0.0309, -0.0735],\n",
       "         [-0.0235, -0.0638, -0.0497,  ..., -0.0683,  0.0726, -0.0394],\n",
       "         [-0.0447, -0.0136,  0.0567,  ...,  0.0586, -0.0378,  0.0362]],\n",
       "        device='cuda:0'),\n",
       " tensor([0., 0., 0., 0., 0., 0., 0., 0., 0., 0., 0., 0., 0., 0., 0., 0., 0., 0., 0., 0., 0., 0., 0., 0.,\n",
       "         0., 0., 0., 0., 0., 0., 0., 0., 0., 0., 0., 0., 0., 0., 0., 0., 0., 0., 0., 0., 0., 0., 0., 0.,\n",
       "         0., 0., 0., 0., 0., 0., 0., 0., 0., 0., 0., 0., 0., 0., 0., 0., 0., 0., 0., 0., 0., 0., 0., 0.,\n",
       "         0., 0., 0., 0., 0., 0., 0., 0., 0., 0., 0., 0., 0., 0., 0., 0., 0., 0., 0., 0., 0., 0., 0., 0.,\n",
       "         0., 0., 0., 0., 0., 0., 0., 0., 0., 0., 0., 0., 0., 0., 0., 0., 0., 0., 0., 0., 0., 0., 0., 0.,\n",
       "         0., 0., 0., 0., 0., 0., 0., 0.], device='cuda:0'),\n",
       " tensor([[ 0.1656, -0.0676, -0.0910,  ...,  0.1391, -0.1756,  0.1732],\n",
       "         [ 0.0291, -0.0498,  0.1682,  ..., -0.1323,  0.0955, -0.1583],\n",
       "         [ 0.0813, -0.0003,  0.2082,  ...,  0.1258, -0.0922,  0.1692],\n",
       "         ...,\n",
       "         [-0.1871,  0.1928, -0.1685,  ..., -0.0787,  0.0986,  0.1977],\n",
       "         [-0.0567,  0.1631,  0.0582,  ...,  0.0079, -0.1249,  0.1243],\n",
       "         [ 0.1560,  0.1841, -0.1912,  ..., -0.0269,  0.0816,  0.1533]],\n",
       "        device='cuda:0'),\n",
       " tensor([0., 0., 0., 0., 0., 0., 0., 0., 0., 0.], device='cuda:0')]"
      ]
     },
     "execution_count": 14,
     "metadata": {},
     "output_type": "execute_result"
    }
   ],
   "execution_count": 14
  },
  {
   "metadata": {
    "ExecuteTime": {
     "end_time": "2024-09-18T14:48:24.818097Z",
     "start_time": "2024-09-18T14:48:24.806939Z"
    }
   },
   "cell_type": "code",
   "source": [
    "# If the model is saved in filesystem - load it, otherwise train it and save.\n",
    "\n",
    "if os.path.exists('model.weights.h5'):\n",
    "    model.load_weights('model.weights.h5')\n",
    "else:\n",
    "    model.fit(\n",
    "        mnist.train.data[\"images\"], mnist.train.data[\"labels\"],\n",
    "        batch_size=args.batch_size, epochs=args.epochs,\n",
    "        validation_data=(mnist.dev.data[\"images\"], mnist.dev.data[\"labels\"])\n",
    "    )\n",
    "    model.save_weights('model.weights.h5')"
   ],
   "id": "2dc89bf45446617e",
   "outputs": [],
   "execution_count": 15
  },
  {
   "metadata": {
    "ExecuteTime": {
     "end_time": "2024-09-18T14:48:26.096011Z",
     "start_time": "2024-09-18T14:48:26.081873Z"
    }
   },
   "cell_type": "code",
   "source": [
    "# Save trained parameters of the model.\n",
    "theta_star = [param.data.clone() for param in model.parameters()]\n",
    "theta_star"
   ],
   "id": "7d403d677cb2ceda",
   "outputs": [
    {
     "data": {
      "text/plain": [
       "[tensor([[ 0.0188, -0.0531, -0.0275,  ..., -0.0293,  0.0531, -0.0326],\n",
       "         [ 0.0408, -0.0645,  0.0625,  ...,  0.0544, -0.0456,  0.0718],\n",
       "         [-0.0452,  0.0373,  0.0305,  ...,  0.0380,  0.0310,  0.0340],\n",
       "         ...,\n",
       "         [-0.0638, -0.0676,  0.0280,  ...,  0.0232, -0.0309, -0.0735],\n",
       "         [-0.0235, -0.0638, -0.0497,  ..., -0.0683,  0.0726, -0.0394],\n",
       "         [-0.0447, -0.0136,  0.0567,  ...,  0.0586, -0.0378,  0.0362]],\n",
       "        device='cuda:0'),\n",
       " tensor([-0.2900, -0.0700,  0.0203,  0.0436, -0.0170, -0.2583,  0.3683, -0.1987,\n",
       "         -0.0456, -0.2884, -0.0599, -0.0789,  0.0081, -0.4519, -0.0600, -0.0042,\n",
       "          0.1422,  0.0932,  0.0295, -0.0599,  0.4157,  0.1814, -0.0599, -0.0137,\n",
       "         -0.6069,  0.4647, -0.0476,  0.1774, -0.2244, -0.1014, -0.0739, -0.1043,\n",
       "         -0.0599,  0.2158, -0.0722, -0.0385, -0.0738,  0.2654, -0.1365,  0.0305,\n",
       "         -0.3626, -0.0375, -0.0632,  0.1315, -0.6022, -0.0475, -0.1004, -0.0119,\n",
       "         -0.0598, -0.0685, -0.4184, -0.0599, -0.0747, -0.0500, -0.3192,  0.0074,\n",
       "         -0.0635, -0.0738,  0.2235, -0.0341, -0.3541,  0.4944, -0.1381, -0.0599,\n",
       "         -0.0513, -0.0123,  0.1194,  0.0217, -0.0599, -0.4733, -0.3379, -0.0599,\n",
       "          0.0475, -0.2484, -0.1030, -0.1048, -0.0523, -0.1127,  0.2794,  0.0353,\n",
       "         -0.0330, -0.1934, -0.0888,  0.1689,  0.2379, -0.0936, -0.0766,  0.0981,\n",
       "         -0.0599,  0.0872, -0.6272, -0.0741, -0.0366, -0.2578, -0.4671, -0.0298,\n",
       "          0.1848, -0.0659, -0.0656, -0.0470, -0.0739,  0.0613, -0.2741, -0.0062,\n",
       "         -0.0300, -0.0599, -0.5356, -0.0658, -0.0875, -0.0647, -0.2609, -0.1166,\n",
       "         -0.0571, -0.1616, -0.5093, -0.0598, -0.6378, -0.0843, -0.3003,  0.1000,\n",
       "         -0.2726, -0.1454,  0.0195, -0.3350, -0.3072, -0.0757, -0.1846, -0.0420],\n",
       "        device='cuda:0'),\n",
       " tensor([[ 0.5013,  0.1795,  0.2880,  ...,  0.2347, -0.4857,  0.2794],\n",
       "         [-0.1499,  0.2001,  0.2087,  ..., -0.4529,  0.2005, -0.7839],\n",
       "         [ 0.1826, -0.3573,  0.5010,  ..., -0.2559, -0.5044,  0.4272],\n",
       "         ...,\n",
       "         [-0.1280,  0.1298, -0.2343,  ..., -0.0942,  0.1593,  0.1317],\n",
       "         [-0.2493,  0.2075, -0.2649,  ..., -0.5789, -0.4690,  0.2385],\n",
       "         [ 0.1809,  0.1826, -0.1007,  ...,  0.0197,  0.0139,  0.0748]],\n",
       "        device='cuda:0'),\n",
       " tensor([ 0.0119, -0.7616, -0.1913, -0.2128,  0.2776, -0.0414, -0.4619, -0.5140,\n",
       "          1.2767, -0.0850], device='cuda:0')]"
      ]
     },
     "execution_count": 16,
     "metadata": {},
     "output_type": "execute_result"
    }
   ],
   "execution_count": 16
  },
  {
   "metadata": {},
   "cell_type": "markdown",
   "source": [
    "## Visualizing the Loss Landscape\n",
    "\n",
    "We use method explained in [Li et al. 2018](https://arxiv.org/pdf/1712.09913):\n",
    "\n",
    "1. Selection of Direction Vectors\n",
    "2. Parameter Space Projection\n",
    "3. Loss Computation\n",
    "4. Visualization"
   ],
   "id": "5992ba40aaf0c2a"
  },
  {
   "metadata": {},
   "cell_type": "markdown",
   "source": [
    "### Selection of Direction Vectors\n",
    "\n",
    "$d_1$ is our first vector: $$d_1 = \\theta^* - \\theta_0.$$\n",
    "\n",
    "$d_2$ we is random vector, orthogonal to $d_1$.\n",
    "\n",
    "We work with weights of the model, as with one single vector. But to compute loss later, we need to preserve model's structure of weights, and cannot flatten all weights tensors into one single vector. We have to compute $d_1$ and $d_2$ part-wise.\n",
    "\n",
    "We use Gram Schmidt Orthogonalization to get $d_2$.\n",
    "\n",
    "![](img/d1_dot_d2.png)"
   ],
   "id": "6871e38ba468cb6d"
  },
  {
   "metadata": {
    "ExecuteTime": {
     "end_time": "2024-09-18T14:50:20.625278Z",
     "start_time": "2024-09-18T14:50:20.619108Z"
    }
   },
   "cell_type": "code",
   "source": [
    "d1 = [t_star - t_0 for t_star, t_0 in zip(theta_star, theta_0)]\n",
    "d2 = [torch.randn_like(d) for d in d1]\n",
    "\n",
    "# Check dot product, it will be 0 only by chance.\n",
    "d1_dot_d2 = sum([torch.sum(d1_i * d2_i) for d1_i, d2_i in zip(d1, d2)])\n",
    "d1_dot_d2"
   ],
   "id": "32ddf97faa3b878a",
   "outputs": [
    {
     "data": {
      "text/plain": [
       "tensor(-126.3126, device='cuda:0')"
      ]
     },
     "execution_count": 27,
     "metadata": {},
     "output_type": "execute_result"
    }
   ],
   "execution_count": 27
  },
  {
   "metadata": {},
   "cell_type": "markdown",
   "source": [
    "![](img/gramm_schmidt_1.png)\n",
    "![](img/gramm_schmidt_2.png)"
   ],
   "id": "191db367ce3b9873"
  },
  {
   "metadata": {
    "ExecuteTime": {
     "end_time": "2024-09-18T15:21:10.387420Z",
     "start_time": "2024-09-18T15:21:10.375701Z"
    }
   },
   "cell_type": "code",
   "source": [
    "d1_dot_d1 = sum([torch.sum(d1_i * d1_i) for d1_i in d1])\n",
    "scale = d1_dot_d2 / d1_dot_d1\n",
    "\n",
    "d2_orto = [d2_i - scale * d1_i for d1_i, d2_i in zip(d1, d2)]\n",
    "\n",
    "d1_norm = torch.sqrt(sum([torch.sum(d_i ** 2) for d_i in d1]))\n",
    "d2_orto_norm = torch.sqrt(sum([torch.sum(d_i ** 2) for d_i in d2_orto]))\n",
    "\n",
    "d1 = [d_i / d1_norm for d_i in d1]\n",
    "d2 = [d_i / d2_orto_norm for d_i in d2_orto]"
   ],
   "id": "19a6813d6ee9ca06",
   "outputs": [],
   "execution_count": 28
  },
  {
   "metadata": {
    "ExecuteTime": {
     "end_time": "2024-09-17T18:40:15.115252Z",
     "start_time": "2024-09-17T18:40:15.108744Z"
    }
   },
   "cell_type": "code",
   "source": [
    "# Check if dot product is zero. The value is almost zero, due to computation error.\n",
    "dot = sum([torch.sum(d1_i * d2_i) for d1_i, d2_i in zip(d1, d2)])\n",
    "dot"
   ],
   "id": "aad478b17c024081",
   "outputs": [
    {
     "data": {
      "text/plain": [
       "tensor(-2.0373e-10, device='cuda:0')"
      ]
     },
     "execution_count": 94,
     "metadata": {},
     "output_type": "execute_result"
    }
   ],
   "execution_count": 94
  },
  {
   "metadata": {},
   "cell_type": "markdown",
   "source": [
    "## Parameter Space Projection\n",
    "\n",
    "$\\theta = \\theta^* + \\alpha d_1 + \\beta d_2$, where $\\theta$ is some perturbation around trained parameters $\\theta^*$. \n",
    "\n",
    "We create a grid, where coordinates are scaling factors $\\alpha$ and $\\beta$, on which we project the loss value, computed by the model with $\\theta$ parameters."
   ],
   "id": "f9f8661ff46f397"
  },
  {
   "metadata": {
    "ExecuteTime": {
     "end_time": "2024-09-18T15:26:13.764114Z",
     "start_time": "2024-09-18T15:26:13.760953Z"
    }
   },
   "cell_type": "code",
   "source": [
    "alpha = beta = np.linspace(-1000, 1000, 100)\n",
    "alpha_mesh, beta_mesh = np.meshgrid(alpha, beta)"
   ],
   "id": "c84122d341540dc1",
   "outputs": [],
   "execution_count": 30
  },
  {
   "metadata": {},
   "cell_type": "markdown",
   "source": [
    "## Loss Computation\n",
    "\n",
    "We compute loss using same model architecture but with $\\theta$ parameters."
   ],
   "id": "1010db0eebcffd9e"
  },
  {
   "metadata": {
    "ExecuteTime": {
     "end_time": "2024-09-18T15:26:14.965558Z",
     "start_time": "2024-09-18T15:26:14.961066Z"
    }
   },
   "cell_type": "code",
   "source": [
    "loss_values = np.zeros_like(alpha_mesh)\n",
    "def compute_loss_values(loss_values):\n",
    "    for i in tqdm(range(alpha_mesh.shape[0]), desc='Loss computation'):\n",
    "        for j in range(beta_mesh.shape[1]):\n",
    "            # Compute new parameters\n",
    "            theta = [theta_star_i + alpha_mesh[i, j] * d1_i + beta_mesh[i, j] * d2_i\n",
    "                     for theta_star_i, d1_i, d2_i in zip(theta_star, d1, d2)]\n",
    "\n",
    "            # Load parameters into the model\n",
    "            for param, theta_i in zip(model.parameters(), theta):\n",
    "                param.data = theta_i\n",
    "\n",
    "            # Evaluate loss on validation set\n",
    "            scalars = model.evaluate(mnist.dev.data[\"images\"], mnist.dev.data[\"labels\"],\n",
    "                                     batch_size=min(mnist.dev.data['images'].shape[0], 5000), verbose=0)\n",
    "            loss_values[i, j] = scalars[0]"
   ],
   "id": "65c6a76b7324eec4",
   "outputs": [],
   "execution_count": 31
  },
  {
   "metadata": {
    "ExecuteTime": {
     "end_time": "2024-09-18T15:26:59.005506Z",
     "start_time": "2024-09-18T15:26:59.001805Z"
    }
   },
   "cell_type": "code",
   "source": [
    "# If loss values are saved in local directory, load them, otherwise compute loss values anew and save it.\n",
    "if os.path.exists('loss_values.npy'):\n",
    "    loss_values = np.load('loss_values.npy')\n",
    "else:\n",
    "    compute_loss_values(loss_values)\n",
    "    np.save('loss_values.npy', loss_values)"
   ],
   "id": "258bd812c40f0405",
   "outputs": [],
   "execution_count": 32
  },
  {
   "metadata": {},
   "cell_type": "markdown",
   "source": "## Visualization",
   "id": "d68390b31f3f1b1"
  },
  {
   "metadata": {
    "ExecuteTime": {
     "end_time": "2024-09-18T15:27:37.427228Z",
     "start_time": "2024-09-18T15:27:37.423340Z"
    }
   },
   "cell_type": "code",
   "source": [
    "# Define function which will be used to visualize loss landscape by specified elevation and azimuth.\n",
    "def plot_loss_landscape(elev=40, azim=20):\n",
    "    fig = plt.figure(figsize=(10, 10), constrained_layout=True)\n",
    "    ax = fig.add_subplot(projection='3d')\n",
    "\n",
    "    # Plot the surface\n",
    "    surf = ax.plot_surface(\n",
    "        alpha_mesh,  # X-axis values\n",
    "        beta_mesh,  # Y-axis values\n",
    "        loss_values,  # Z-axis values (loss)\n",
    "        cmap=cm.coolwarm,\n",
    "        edgecolor='black',\n",
    "        linewidth=0.5,\n",
    "        antialiased=True\n",
    "    )\n",
    "\n",
    "    # Add a color bar to map colors to loss values\n",
    "    fig.colorbar(surf, shrink=0.5, aspect=20)\n",
    "\n",
    "    # Set labels and title\n",
    "    ax.set_xlabel('Alpha')\n",
    "    ax.set_ylabel('Beta')\n",
    "    ax.set_zlabel('Loss')\n",
    "    ax.set_title('3D Loss Landscape')\n",
    "\n",
    "    # Optional: Adjust the viewing angle\n",
    "    ax.view_init(elev=elev, azim=azim)  # Elevation and azimuthal angles\n",
    "\n",
    "    plt.show()"
   ],
   "id": "a1c16d49a6368ac2",
   "outputs": [],
   "execution_count": 34
  },
  {
   "metadata": {
    "ExecuteTime": {
     "end_time": "2024-09-18T15:27:41.596717Z",
     "start_time": "2024-09-18T15:27:40.642659Z"
    }
   },
   "cell_type": "code",
   "source": [
    "elevation_slider = widgets.IntSlider(min=-90, max=90, step=10, value=40, description='Elevation',\n",
    "                                     continuous_update=False, style={'description_width': 'initial'})\n",
    "azimuth_slider = widgets.IntSlider(min=0, max=360, step=10, value=20, description='Azimuth Angle',\n",
    "                                   continuous_update=False, style={'description_width': 'initial'})\n",
    "\n",
    "widgets.interact(plot_loss_landscape, elev=elevation_slider, azim=azimuth_slider)\n",
    "plt.show()"
   ],
   "id": "8a312c31d464f0b7",
   "outputs": [
    {
     "data": {
      "text/plain": [
       "interactive(children=(IntSlider(value=40, continuous_update=False, description='Elevation', max=90, min=-90, s…"
      ],
      "application/vnd.jupyter.widget-view+json": {
       "version_major": 2,
       "version_minor": 0,
       "model_id": "5539c5e5087b4995809f8a776e149c94"
      }
     },
     "metadata": {},
     "output_type": "display_data"
    }
   ],
   "execution_count": 35
  }
 ],
 "metadata": {
  "kernelspec": {
   "display_name": "Python 3",
   "language": "python",
   "name": "python3"
  },
  "language_info": {
   "codemirror_mode": {
    "name": "ipython",
    "version": 2
   },
   "file_extension": ".py",
   "mimetype": "text/x-python",
   "name": "python",
   "nbconvert_exporter": "python",
   "pygments_lexer": "ipython2",
   "version": "2.7.6"
  }
 },
 "nbformat": 4,
 "nbformat_minor": 5
}
